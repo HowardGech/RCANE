{
 "cells": [
  {
   "cell_type": "code",
   "execution_count": null,
   "metadata": {},
   "outputs": [],
   "source": [
    "import numpy as np\n",
    "import os\n",
    "import matplotlib.pyplot as plt\n",
    "import seaborn as sns\n",
    "from scipy.stats import pearsonr\n",
    "# set the working directory to the root of RCANE project\n",
    "os.chdir('/Volumes/gech/cna/RCANE')"
   ]
  },
  {
   "cell_type": "code",
   "execution_count": null,
   "metadata": {},
   "outputs": [],
   "source": [
    "# load the ground truth data and the predicted data\n",
    "ground_truth = np.load('data/predict/TCGA_test.npz', allow_pickle=True)\n",
    "prediction = np.load('data/predict/TCGA_test_prediction.npz', allow_pickle=True)"
   ]
  }
 ],
 "metadata": {
  "language_info": {
   "name": "python"
  }
 },
 "nbformat": 4,
 "nbformat_minor": 2
}
