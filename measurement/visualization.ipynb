{
 "cells": [
  {
   "cell_type": "code",
   "execution_count": 1,
   "metadata": {},
   "outputs": [],
   "source": [
    "import numpy as np\n",
    "import plotly.graph_objs as go\n",
    "from ipywidgets import interact, IntSlider, Checkbox, Layout, Dropdown\n",
    "from IPython.display import display\n",
    "import pandas as pd\n",
    "import os\n",
    "os.chdir('/Volumes/gech/cna/RCANE')"
   ]
  },
  {
   "cell_type": "code",
   "execution_count": 4,
   "metadata": {},
   "outputs": [],
   "source": [
    "seg_info = pd.read_csv('data/start_end_chr_in_segs.csv')\n",
    "file = np.load('data/predict/TCGA_test.npz', allow_pickle=True)\n",
    "cna = file['cna']\n",
    "chr_seg_nums = np.loadtxt('data/chr_index.csv', delimiter=',', dtype=int)\n",
    "chr_index = np.repeat(np.array(range(23))+1,np.array(chr_seg_nums)).reshape(-1,1).astype(str)\n",
    "chr_index[chr_index=='23'] = 'X'\n",
    "cna = np.where(np.isnan(cna), None, cna)\n",
    "profile = file['profile']"
   ]
  },
  {
   "cell_type": "code",
   "execution_count": 5,
   "metadata": {
    "tags": [
     "remove-input"
    ]
   },
   "outputs": [
    {
     "data": {
      "application/vnd.jupyter.widget-view+json": {
       "model_id": "dcd1ca6bf9d94590a17674dd658d9c5c",
       "version_major": 2,
       "version_minor": 0
      },
      "text/plain": [
       "interactive(children=(IntSlider(value=0, description='Sample index', max=2225, style=SliderStyle(description_w…"
      ]
     },
     "metadata": {},
     "output_type": "display_data"
    },
    {
     "data": {
      "application/vnd.jupyter.widget-view+json": {
       "model_id": "d26dd3e953aa454aa2af436b034f67ab",
       "version_major": 2,
       "version_minor": 0
      },
      "text/plain": [
       "FigureWidget({\n",
       "    'data': [{'colorscale': [[0.0, 'rgb(103,0,31)'], [0.1, 'rgb(178,24,43)'],\n",
       "                             [0.2, 'rgb(214,96,77)'], [0.3, 'rgb(244,165,130)'],\n",
       "                             [0.4, 'rgb(253,219,199)'], [0.5, 'rgb(247,247,247)'],\n",
       "                             [0.6, 'rgb(209,229,240)'], [0.7, 'rgb(146,197,222)'],\n",
       "                             [0.8, 'rgb(67,147,195)'], [0.9, 'rgb(33,102,172)'],\n",
       "                             [1.0, 'rgb(5,48,97)']],\n",
       "              'customdata': array([[['TCGA.HT.A615.01A.11R.A29R.07', '1', 14404, 778626],\n",
       "                                    ['TCGA.HT.A615.01A.11R.A29R.07', '1', 778770, 1063288],\n",
       "                                    ['TCGA.HT.A615.01A.11R.A29R.07', '1', 1070966, 1311677],\n",
       "                                    ...,\n",
       "                                    ['TCGA.HT.A615.01A.11R.A29R.07', 'X', 154010500, 154518631],\n",
       "                                    ['TCGA.HT.A615.01A.11R.A29R.07', 'X', 154531391, 155669944],\n",
       "                                    ['TCGA.HT.A615.01A.11R.A29R.07', 'X', 155767812, 156025710]]],\n",
       "                                  dtype=object),\n",
       "              'hovertemplate': ('<b>Sample</b>: %{customdata[0]' ... 'y</b>: %{z:.3f}<extra></extra>'),\n",
       "              'type': 'heatmap',\n",
       "              'uid': '7d994198-6808-4d3d-a282-f2fb49a33cfa',\n",
       "              'z': array([[-0.5665, -0.5665, -0.5665, ..., 0.0007, 0.0007, 0.0007]], dtype=object),\n",
       "              'zmax': 0.7,\n",
       "              'zmin': -0.7}],\n",
       "    'layout': {'template': '...',\n",
       "               'title': {'text': 'TCGA.HT.A615.01A.11R.A29R.07'},\n",
       "               'xaxis': {'showgrid': False, 'showticklabels': False, 'ticks': '', 'title': {'text': ''}},\n",
       "               'yaxis': {'showgrid': False, 'showticklabels': False, 'ticks': '', 'title': {'text': ''}}}\n",
       "})"
      ]
     },
     "metadata": {},
     "output_type": "display_data"
    }
   ],
   "source": [
    "# Click the \"Run\" button to get a visualization of the data\n",
    "\n",
    "\n",
    "# Define the colormap bounds and the two colormaps (RdBu and Viridis)\n",
    "vmin = -0.7\n",
    "vmax = 0.7\n",
    "colormap = 'RdBu'\n",
    "custom_chr_index = np.concatenate((profile.reshape(-1,1,1).repeat(cna.shape[1],axis=1), np.stack((seg_info['chr'].to_numpy().reshape(1, cna.shape[1]),seg_info['start'].to_numpy().reshape(1, cna.shape[1]), seg_info['end'].to_numpy().reshape(1, cna.shape[1])),axis=-1).repeat(cna.shape[0],axis=0)),axis=-1)\n",
    "# Create the initial figure with the first slice of the data and the RdBu colormap\n",
    "fig = go.FigureWidget(data=go.Heatmap(\n",
    "    z=cna[0],  # Start with the first slice of the data\n",
    "    colorscale=colormap,  # Use the RdBu colormap initially\n",
    "    zmin=vmin, zmax=vmax,  # Set the z-axis range to match vmin and vmax\n",
    "    customdata=custom_chr_index[0],  # Custom data for hover information\n",
    "    hovertemplate='<b>Sample</b>: %{customdata[0]}<br><b>Chromosome</b>: %{customdata[1]}<br><b>Start</b>: %{customdata[2]}<br><b>End</b>: %{customdata[3]}<br><b>Intensity</b>: %{z:.3f}<extra></extra>'  # Custom hover information\n",
    "))\n",
    "\n",
    "# Add title and axis labels\n",
    "fig.update_layout(\n",
    "    title=f'{profile[0]}',\n",
    "xaxis=dict(\n",
    "        showticklabels=False,  # Hide x-axis tick labels\n",
    "        ticks=\"\",  # No ticks\n",
    "        showgrid=False,  # No grid lines\n",
    "        title=\"\",  # No title\n",
    "    ),\n",
    "    yaxis=dict(\n",
    "        showticklabels=False,  # Hide y-axis tick labels\n",
    "        ticks=\"\",  # No ticks\n",
    "        showgrid=False,  # No grid lines\n",
    "        title=\"\",  # No title\n",
    "    )\n",
    ")\n",
    "\n",
    "# Function to update the plot based on the selected data slice and colormap\n",
    "def update_plot(index, chr, display):\n",
    "    with fig.batch_update():\n",
    "        if display:\n",
    "            temp_data = cna\n",
    "            temp_customdata = np.array(custom_chr_index)\n",
    "        else:\n",
    "            temp_data = cna[index].reshape(1,-1)\n",
    "            temp_customdata = custom_chr_index[index].reshape(1, custom_chr_index.shape[1],-1)\n",
    "        if chr == 'All':\n",
    "            fig.data[0].z = temp_data\n",
    "            fig.data[0].customdata = temp_customdata\n",
    "        else:\n",
    "            fig.data[0].z = np.take(temp_data, np.where(chr_index==chr)[0], axis=-1)\n",
    "            fig.data[0].customdata = np.take(temp_customdata, np.where(chr_index==chr)[0], axis=1)\n",
    "        fig.layout.title = 'All samples' if display else f'{profile[index]}'\n",
    "\n",
    "# Create an interactive slider to choose the slice index\n",
    "slider = IntSlider(min=0, max=cna.shape[0]-1, step=1, value=0,\n",
    "                   description='Sample index',\n",
    "                   style={'description_width': '100px'}\n",
    "                   )\n",
    "\n",
    "def on_checkbox_change(change):\n",
    "    if change['new']:  # If the checkbox is checked\n",
    "        slider.disabled = True  # Disable the slider\n",
    "    else:\n",
    "        slider.disabled = False  # Enable the slider\n",
    "\n",
    "# Create a checkbox to toggle between the two colormaps\n",
    "chr_Dropdown = Dropdown(\n",
    "    options = ['All'] + [f\"{i}\" for i in range(1, 23)] + ['X'],\n",
    "    value = 'All',\n",
    "    description = 'Chromosome',\n",
    "    layout=Layout(width='200px'),\n",
    "    style={'description_width': '100px'}\n",
    ")\n",
    "Display_all_samples = Checkbox(\n",
    "    value=False,  # Default is unchecked (slider is enabled)\n",
    "    description='Display all samples',\n",
    "    disabled=False,\n",
    "    style={'description_width': '100px'}\n",
    ")\n",
    "Display_all_samples.observe(on_checkbox_change, names='value')\n",
    "\n",
    "\n",
    "\n",
    "# Link the slider and checkbox to the update function\n",
    "interact(update_plot, index=slider, chr=chr_Dropdown, display=Display_all_samples)\n",
    "\n",
    "# Display the plot (only once)\n",
    "display(fig)"
   ]
  }
 ],
 "metadata": {
  "kernelspec": {
   "display_name": "base",
   "language": "python",
   "name": "python3"
  },
  "language_info": {
   "codemirror_mode": {
    "name": "ipython",
    "version": 3
   },
   "file_extension": ".py",
   "mimetype": "text/x-python",
   "name": "python",
   "nbconvert_exporter": "python",
   "pygments_lexer": "ipython3",
   "version": "3.9.16"
  }
 },
 "nbformat": 4,
 "nbformat_minor": 2
}
